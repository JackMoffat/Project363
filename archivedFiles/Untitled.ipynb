{
 "cells": [
  {
   "cell_type": "code",
   "execution_count": 1,
   "metadata": {
    "autoscroll": false,
    "collapsed": false,
    "ein.hycell": false,
    "ein.tags": "worksheet-0",
    "slideshow": {
     "slide_type": "-"
    }
   },
   "outputs": [],
   "source": [
    "import random"
   ]
  },
  {
   "cell_type": "code",
   "execution_count": 2,
   "metadata": {
    "autoscroll": false,
    "collapsed": false,
    "ein.hycell": false,
    "ein.tags": "worksheet-0",
    "slideshow": {
     "slide_type": "-"
    }
   },
   "outputs": [],
   "source": []
  },
  {
   "cell_type": "code",
   "execution_count": 3,
   "metadata": {
    "autoscroll": false,
    "collapsed": false,
    "ein.hycell": false,
    "ein.tags": "worksheet-0",
    "slideshow": {
     "slide_type": "-"
    }
   },
   "outputs": [],
   "source": [
    "# we can put this into an org-mode code block\n",
    "n_trials = 15\n",
    "alphabet = [i for i in \"ABCDEFGHIJKLMNOPQRSTUVWXYZ\"]\n",
    "letters_initial = [random.choice(alphabet) for i in range(n_trials)]\n",
    "\n",
    "match_frequency = random.random() # take a percentage for how many matches there should be\n",
    "\n",
    "# for idx,char in enumerate(lettersi):\n",
    "#     if idx > 1:\n",
    "#         if (random.random() > match_freq):\n",
    "#             lettersf[idx-2] = char\n",
    "#             print(f\"matched {idx} and {idx-2}\")\n",
    "\n",
    "space = \"bruh\"\n"
   ]
  },
  {
   "cell_type": "code",
   "execution_count": 36,
   "metadata": {
    "autoscroll": false,
    "collapsed": false,
    "ein.hycell": false,
    "ein.tags": "worksheet-0",
    "slideshow": {
     "slide_type": "-"
    }
   },
   "outputs": [],
   "source": [
    "def makeMatches(in_list, n_back=2, threshold=0,keep_stats=True,verbose=False):\n",
    "    '''Creates the matches in a given list.if a random number is greater than threshold,\n",
    "    then match the letters at positions [idx] and [idx-n_back]\n",
    "    in_list: list of letters, strings, etc\n",
    "    threshold: type(float) in range(0,1)\n",
    "    keep_stats: Bool: will output a list with information on\n",
    "    the matches (position, character) and their frequency\n",
    "verbose: Bool: prints information about the lists for immediate viewing\n",
    "    '''\n",
    "    \n",
    "    out_list = [i for i in in_list] # done this way to avoid changing original list, confirm necessity?\n",
    "    stats = [] # list holding the character and positions it was matched at\n",
    "    num_matches = 0\n",
    "    for idx, char in enumerate(in_list):\n",
    "        if idx > 1:\n",
    "            if (random.random() > threshold):\n",
    "                out_list[idx] = in_list[idx-n_back]\n",
    "                stats.append([(idx,idx-2),char]) if keep_stats else None \n",
    "                num_matches += 1\n",
    "\n",
    "    # show stats or not                    \n",
    "    if verbose:# switch this out of a print statement for final thing so it doesnt show up\n",
    "        print(f\"{num_matches} of {len(in_list)-2} possible matches: {real_match_rate * 100} %\")\n",
    "        print(f\"letters_initial\\n\",letters_initial,\"\\nmatched list\\n\",n_list)\n",
    "    else:\n",
    "        pass\n",
    "    \n",
    "    if keep_stats:\n",
    "        real_match_rate = num_matches / (len(in_list) - 2)\n",
    "        stats.insert(0,[(num_matches),\"number of matches\"])\n",
    "        stats.insert(0,[(real_match_rate),\"actual match rate\"])\n",
    "        return(out_list,stats)\n",
    "    else:\n",
    "        return(out_list)\n",
    "\n",
    "    n_list,stats = makeMatches(letters_initial,threshold=0.5)\n",
    "\n",
    "#ok it works, now need to pass it to generator\n"
   ]
  },
  {
   "cell_type": "code",
   "execution_count": null,
   "metadata": {
    "autoscroll": false,
    "collapsed": false,
    "ein.hycell": false,
    "ein.tags": "worksheet-0",
    "slideshow": {
     "slide_type": "-"
    }
   },
   "outputs": [],
   "source": [
    "# write to file - add thing to name file based on participant\n",
    "# This just for lists right now\n",
    "datafile = open(\"datafile.txt\",\"w+\")\n",
    "\n",
    "for line in n_list:\n",
    "    datafile.write(line)\n",
    "    datafile.write(\"\\n\")\n",
    "\n",
    "for line in stats:\n",
    "    datafile.write(line)\n",
    "    datafile.write(\"\\n\")"
   ]
  }
 ],
 "metadata": {
  "kernelspec": {
   "argv": [
    "/home/jackm/anaconda3/bin/python",
    "-m",
    "ipykernel_launcher",
    "-f",
    "{connection_file}"
   ],
   "display_name": "Python 3",
   "env": null,
   "interrupt_mode": "signal",
   "language": "python",
   "metadata": null,
   "name": "python3"
  },
  "name": "Untitled.ipynb"
 },
 "nbformat": 4,
 "nbformat_minor": 2
}
